<html lang="es">
 <head>
  <link href="https://maxcdn.bootstrapcdn.com/" rel="dns-prefetch"/>
  <link href="//cdn.jsdelivr.net/" rel="dns-prefetch"/>
  <link href="https://ajax.googleapis.com/" rel="dns-prefetch"/>
  <link href="https://cdnjs.cloudflare.com/" rel="dns-prefetch"/>
  <!-- meta -->
  <meta charset="utf-8"/>
  <meta content="initial-scale=1.0,maximum-scale=1.0,user-scalable=no" name="viewport"/>
  <!-- og title -->
  <meta content="IE=edge" http-equiv="X-UA-Compatible"/>
  <meta content="IE=7; IE=9; IE=10; IE=11;" http-equiv="X-UA-Compatible"/>
  <meta content="UPL | Spain" property="og:title"/>
  <meta content="https://www.upl-ltd.com/es_assets/images/UPL_Header.png" property="og:image"/>
  <!-- Title, Description & keywords -->
  <title>
   Productos | UPL
  </title>
  <meta content="Products | UPL" name="description"/>
  <meta content="Herbicide, Fungicide, Plant Growth Regulator, Insecticide / Miticides, Seed Treatments, Fumigants, Biosolutions" name="keywords"/>
  <!-- Canonical url -->
  <link href="https://www.upl-ltd.com/es/Productos" rel="canonical"/>
  <link href="https://www.upl-ltd.com/" hreflang="en" rel="alternate"/>
  <link href="https://www.upl-ltd.com/in" hreflang="en-in" rel="alternate"/>
  <link href="https://www.upl-ltd.com/vn" hreflang="vi-vn" rel="alternate"/>
  <link href="https://www.upl-ltd.com/ph" hreflang="en-ph" rel="alternate"/>
  <link href="https://www.upl-ltd.com/pk" hreflang="en-pk" rel="alternate"/>
  <link href="https://www.upl-ltd.com/id" hreflang="id-id" rel="alternate"/>
  <link href="https://www.upl-ltd.com/th" hreflang="th-th" rel="alternate"/>
  <link href="https://www.upl-ltd.com/tr" hreflang="tr-tr" rel="alternate"/>
  <link href="https://www.upl-ltd.com/uk" hreflang="en-gb" rel="alternate"/>
  <link href="https://www.upl-ltd.com/nl" hreflang="nl-nl" rel="alternate"/>
  <link href="https://www.upl-ltd.com/pl" hreflang="pl-pl" rel="alternate"/>
  <link href="https://www.upl-ltd.com/it" hreflang="it-it" rel="alternate"/>
  <link href="https://www.upl-ltd.com/es" hreflang="es-es" rel="alternate"/>
  <link href="https://www.upl-ltd.com/ke" hreflang="en-ke" rel="alternate"/>
  <link href="https://www.upl-ltd.com/tz" hreflang="en-tz" rel="alternate"/>
  <link href="https://www.upl-ltd.com/ng" hreflang="en-ng" rel="alternate"/>
  <link href="https://www.upl-ltd.com/za" hreflang="en-za" rel="alternate"/>
  <link href="https://www.upl-ltd.com/br" hreflang="pt-br" rel="alternate"/>
  <link href="https://www.upl-ltd.com/co" hreflang="es-co" rel="alternate"/>
  <link href="https://www.upl-ltd.com/ar" hreflang="es-ar" rel="alternate"/>
  <link href="https://www.upl-ltd.com/cl" hreflang="es-cl" rel="alternate"/>
  <link href="https://www.upl-ltd.com/us" hreflang="en-us" rel="alternate"/>
  <link href="https://www.upl-ltd.com/ca" hreflang="en-ca" rel="alternate"/>
  <link href="https://www.upl-ltd.com/cr" hreflang="es-cr" rel="alternate"/>
  <link href="https://www.upl-ltd.com/mx" hreflang="es-mx" rel="alternate"/>
  <link href="https://www.upl-ltd.com/au" hreflang="en-au" rel="alternate"/>
  <link href="https://www.upl-ltd.com/nz" hreflang="en-nz" rel="alternate"/>
  <!-- favicon -->
  <link href="https://www.upl-ltd.com/es_assets/images/favicon.png" rel="icon" type="image/x-icon"/>
  <!-- third party stylesheets -->
  <link crossorigin="anonymous" href="https://cdnjs.cloudflare.com/ajax/libs/twitter-bootstrap/3.3.7/css/bootstrap.min.css" integrity="sha512-6MXa8B6uaO18Hid6blRMetEIoPqHf7Ux1tnyIQdpt9qI5OACx7C+O3IVTr98vwGnlcg0LOLa02i9Y1HpVhlfiw==" referrerpolicy="no-referrer" rel="stylesheet"/>
  <link href="https://cdnjs.cloudflare.com/ajax/libs/font-awesome/4.7.0/css/font-awesome.min.css" rel="stylesheet" type="text/css"/>
  <link href="https://cdnjs.cloudflare.com/ajax/libs/slick-carousel/1.8.1/slick.min.css" rel="stylesheet"/>
  <link href="https://cdnjs.cloudflare.com/ajax/libs/slick-carousel/1.8.1/slick-theme.min.css" rel="stylesheet"/>
  <link href="https://www.upl-ltd.com/es_assets/css/intlTelInput.css" rel="stylesheet" type="text/css"/>
  <link href="https://www.upl-ltd.com/es_assets/css/selectize.css" rel="stylesheet" type="text/css"/>
  <link href="https://www.upl-ltd.com/es_assets/css/simplePagination.css" rel="stylesheet" type="text/css"/>
  <link href="https://www.upl-ltd.com/es_assets/css/easy-autocomplete.css" rel="stylesheet" type="text/css"/>
  <link href="https://www.upl-ltd.com/es_assets/css/easy-autocomplete.themes.css" rel="stylesheet" type="text/css"/>
  <link href="https://www.upl-ltd.com/es_assets/css/jquery.realperson.css" rel="stylesheet" type="text/css"/>
  <link href="https://www.upl-ltd.com/es_assets/socials/jssocials.css" rel="stylesheet" type="text/css"/>
  <link href="https://www.upl-ltd.com/es_assets/socials/jssocials-theme-flat.css" rel="stylesheet" type="text/css"/>
  <link href="https://www.upl-ltd.com/es_assets/css/slick-theme.css" rel="stylesheet" type="text/css"/>
  <link href="https://www.upl-ltd.com/es_assets/css/slick.css" rel="stylesheet" type="text/css"/>
  <!-- custom css -->
  <link href="https://www.upl-ltd.com/common_assets/css/main.css" rel="stylesheet" type="text/css"/>
  <link href="https://www.upl-ltd.com/es_assets/css/main.css?v7" rel="stylesheet" type="text/css"/>
 </head>
 <body data-class="webp">
  <!-- Popup Mesage -->
  <!-- <div class="popup-section popup-bg dn">
		<div class="upl-container container np">
			<button type="button" class="close big-popup-close" aria-label="Close"><span aria-hidden="true" class="popup-close">&times;</span></button>
			<div class="row">
				<div class="col-sm-1 np ">
				</div>
				<div class="col-sm-8">
				</div>
			</div>
			<div class="row">
				<div class="col-sm-6 col-sm-offset-1 np popup-description">
					<p>Regístrese para estar al corriente de las novedades como puedan ser boletines técnicos, cambios de etiquetas, actualizaciones de productos, registros y servicios; noticias, eventos y otras ofertas especiales.</p>
				</div>
				<div class="col-sm-2 click-here-btn">
					<a href="http://eepurl.com/g0A60P" class="btn upl-btn upl-btn-red popup-btn" target="_blank">Haga clic aquí</a>
				</div>
			</div>
		</div>
	</div> -->
  <!-- Top Band -->
  <!-- <div class="top-navbar gray-band">
		<div class="clearfix">
			<div class="container">
				<div class="gray-mg-tray text-center">
					<a href="https://bit.ly/3XonxNa" class="top-header-text" target="_blank">Conoce a nuestros héroes del Campo</a>
				</div>
			</div>
			<button type="button" class="gray-band-close" aria-label="Close"><span aria-hidden="true" class="close-text">Close</span><span style="font-size: 20px;" aria-hidden="true">&times;</span></button>
		</div>
	</div> -->
  <!-- UPL Navigation Bar -->
  <nav class="navbar navbar-default sticky">
   <div class="top-navbar">
    <div class="small-popup clearfix">
     <h1 class="popup-content">
     </h1>
     <p class="popup-container">
      Regístrese para estar al corriente de las novedades como puedan ser boletines técnicos, cambios de etiquetas, actualizaciones de productos, registros y servicios; noticias, eventos y otras ofertas especiales.
     </p>
     <a class="btn upl-btn upl-btn-red small-popup-btn" href="http://eepurl.com/g0A60P" target="_blank">
      Haga clic aquí
     </a>
     <button class="enlarge">
      <i aria-hidden="true" class="fa fa-expand">
      </i>
     </button>
     <button aria-label="Close" class="close small-popup-close" type="button">
      <span aria-hidden="true">
       ×
      </span>
     </button>
    </div>
    <!-- <div class="container navbar-container upl-container">
				<div class="row">
					<ul class="nav navbar-nav navbar-right topnav">
						<li class=""><a href="https://uconnect.openag.net/customers/s/login/?language=es" target="_blank">UConnect Login</a></li> -->
    <!-- <li class=""><a href="tel:18001021199">Toll Free number: 1800 102 1199</a></li>
						<li class=""><a href="https://myportal.uplonline.com/user_auth.php" target="_blank">Employee Login</a></li>
						<li><a href="/" target="_blank">Partner Login</a></li> -->
    <!-- </ul>
				</div>
			</div> -->
   </div>
   <div class="main-navbar">
    <div class="container navbar-container upl-container">
     <div class="row">
      <!-- Brand and toggle get grouped for better mobile display -->
      <div class="navbar-header clearfix">
       <div class="navbar-brand">
        <div>
         <a href="https://www.upl-ltd.com/es">
          <video autobuffer="" autoplay="" id="video" loop="" muted="" playsinline="">
           <source src="https://www.upl-ltd.com/images/UPL_header-logo.mp4" type='video/mp4; codecs="avc1.42E01E, mp4a.40.2"'/>
          </video>
         </a>
         <a href="https://www.upl-ltd.com/es">
          <span class="country" style="vertical-align: top; margin-top: 4%">
           <img class="img-responsive country-flag lazyloaded" data-src="https://www.upl-ltd.com/es_assets/images/UPL-ES_Flag.png" src="https://www.upl-ltd.com/es_assets/images/UPL-ES_Flag.png"/>
           <span class="country-name">
            España
           </span>
          </span>
         </a>
         <!-- <a href="https://www.upl-ltd.com/pt">

									<span href="https://pt.uplonline.com/" class="country" style="margin-left:4px; padding-left:8px; vertical-align: top; margin-top: 4%; filter: grayscale(1);">
										<img class="img-responsive country-flag" src="https://www.upl-ltd.com/es_assets/images/Portugal-Flag.png">
										<span class="country-name">Portugal</span>
									</span>
								</a> -->
        </div>
        <span class="weather-wrapper mobile-weather">
        </span>
       </div>
       <span class="navbar-toggle-btn pull-right">
        <i class="fa fa-bars">
        </i>
       </span>
       <!-- mobile navbar -->
       <div class="mob-nav">
        <div class="mob-nav-wrapper">
         <span class="navbar-toggle-btn pull-right bold-text" style="display: inline-block;">
          X
         </span>
         <ul class="navlist list-unstyled">
          <div class="panel-group" id="menu-accordion" role="tablist">
           <div class="panel panel-default">
            <div class="panel-heading collapsed" data-parent="#menu-accordion" data-toggle="collapse" href="#headerAccOne">
             <h4>
              Quiénes Somos
             </h4>
            </div>
            <div class="panel-collapse collapse" id="headerAccOne" role="tabpanel">
             <div class="panel-body">
              <ul class="list-unstyled">
               <li class="mob-menu-item">
                <a class="" href="https://www.upl-ltd.com/es/open-ag">
                 OpenAg
                 <sup>
                  ®
                 </sup>
                </a>
               </li>
               <li class="mob-menu-item">
                <a class="" href="https://www.upl-ltd.com/es/Misi%C3%B3n-Corporativa">
                 Misión Corporativa
                </a>
               </li>
               <li class="mob-menu-item">
                <a class="" href="https://www.upl-ltd.com/es/Nuestro-Legado">
                 Nuestro Legado
                </a>
               </li>
              </ul>
             </div>
            </div>
           </div>
          </div>
          <li class="mob-menu-item active">
           <h4 class="sub-menu">
            <a class="" href="https://www.upl-ltd.com/es/Productos">
             Productos
            </a>
           </h4>
          </li>
          <li class="mob-menu-item">
           <h4 class="sub-menu">
            <a href="https://www.pronutiva.es/" target="_blank">
             ProNutiva
            </a>
           </h4>
          </li>
          <li class="mob-menu-item">
           <h4 class="sub-menu">
            <a class="" href="http://fichasdeseguridadupl.es/" target="_blank">
             FDS
            </a>
           </h4>
          </li>
          <li class="mob-menu-item">
           <h4 class="sub-menu">
            <a class="" href="https://www.upl-ltd.com/es/Noticias">
             Noticias
            </a>
           </h4>
          </li>
          <li class="mob-menu-item">
           <h4 class="sub-menu">
            <a class="" href="https://www.upl-ltd.com/es/Contacto">
             Contacto
            </a>
           </h4>
          </li>
          <div class="panel-group" id="menu-accordion" role="tablist">
           <div class="panel panel-default">
            <div class="panel-heading collapsed" data-parent="#menu-accordion" data-toggle="collapse" href="#mob-global-search-drop">
             <h4>
              <i class="fa fa-search">
              </i>
             </h4>
            </div>
            <div class="panel-collapse collapse" id="mob-global-search-drop" role="tabpanel">
             <div class="panel-body navigation-global-search">
              <form class="global-search-form mobile-global-search-form">
               <div class="input-group">
                <input class="form-control mobile-input" placeholder="Search" type="text"/>
                <span class="input-group-btn">
                 <button class="btn btn-default mobile-search" type="submit">
                  <i class="fa fa-search">
                  </i>
                 </button>
                </span>
               </div>
               <!-- /input-group -->
              </form>
             </div>
            </div>
           </div>
          </div>
          <li class="mob-menu-item">
           <h4 class="sub-menu">
            <a href="https://careers.upl-ltd.com/" target="_blank">
             Empleo
            </a>
           </h4>
          </li>
          <li class="mob-menu-item">
           <h4 class="sub-menu">
            <a href="http://eepurl.com/g0A60P" target="_blank">
             Regístrate
            </a>
           </h4>
          </li>
          <li class="mob-menu-item">
           <h4 class="sub-menu">
            <a class="" href="https://www.upl-ltd.com/es/Eventos">
             Eventos
            </a>
           </h4>
          </li>
          <!-- <li class="mob-menu-item">
	<h4 class="sub-menu">
		<a href="https://pronutiva.club/" target="_blank">ProNutiva</a>
	</h4>
</li> -->
          <li class="mob-menu-item">
           <h4 class="sub-menu">
            <a class="" href="https://www.upl-ltd.com/es/Seleccionar-Pa%C3%ADs">
             Seleccionar País
            </a>
           </h4>
          </li>
          <li class="mob-menu-item">
           <h4 class="sub-menu">
            <a href="https://www.upl-ltd.com/" target="_blank">
             UPL Global
            </a>
           </h4>
          </li>
         </ul>
        </div>
       </div>
      </div>
      <!-- Collect the nav links, forms, and other content for toggling -->
      <div class="collapse navbar-collapse" id="bs-example-navbar-collapse-1">
       <ul class="nav navbar-nav navbar-right main-nav">
        <li class="dropdown aboutus-dropdown main-nav-li">
         <a data-toggle="dropdown" href="#">
          Quiénes Somos
          <span>
           <i aria-hidden="true" class="fa fa-chevron-down">
           </i>
          </span>
         </a>
         <ul aria-labelledby="dropdownMenu" class="dropdown-menu text-center" role="menu">
          <li class="">
           <a class="" href="https://www.upl-ltd.com/es/open-ag">
            OpenAg
            <sup>
             ®
            </sup>
           </a>
          </li>
          <li class="">
           <a class="" href="https://www.upl-ltd.com/es/Misi%C3%B3n-Corporativa">
            Misión Corporativa
           </a>
          </li>
          <li class="">
           <a class="" href="https://www.upl-ltd.com/es/Nuestro-Legado">
            Nuestro Legado
           </a>
          </li>
         </ul>
        </li>
        <li class="active main-nav-li">
         <a class="" href="https://www.upl-ltd.com/es/Productos">
          Productos
         </a>
        </li>
        <li class="main-nav-li">
         <a href="https://www.pronutiva.es/" target="_blank">
          ProNutiva
         </a>
        </li>
        <li class="main-nav-li">
         <a class="" href="http://fichasdeseguridadupl.es/" target="_blank">
          FDS
         </a>
        </li>
        <li class="main-nav-li">
         <a class="" href="https://www.upl-ltd.com/es/Noticias">
          Noticias
         </a>
        </li>
        <li class="main-nav-li">
         <a class="" href="https://www.upl-ltd.com/es/Contacto">
          Contacto
         </a>
        </li>
        <li class="main-menu main-nav-li">
         <div class="weather-wrapper">
         </div>
        </li>
        <li class="main-menu search-li">
         <div class="uis-form-wrapper">
          <form class="search-form">
           <input class="form-control uis-input custom-search" placeholder="" type="text"/>
           <img class="uis-form-icon uis-point initial-search lazyload" data-src="https://www.upl-ltd.com/es_assets/images/search-icon.png"/>
           <img class="uis-form-icon uis-point custom-search-btn slide-search-icon lazyload" data-src="https://www.upl-ltd.com/es_assets/images/search-icon.png"/>
          </form>
         </div>
        </li>
        <li class="main-menu ham-menu burger-li">
         <a href="#" style="width: 18px">
          <img class="burger-active" src="https://www.upl-ltd.com/es_assets/images/home/burger-menu-icon.png"/>
          <img class="burger-hover lazyload" data-src="https://www.upl-ltd.com/es_assets/images/home/burger-menu-hover.png"/>
         </a>
         <div class="sub-menu-wrapper inner-ham-menu-wrapper">
          <div class="sub-menu-inner-div">
           <div class="">
            <ul class="inner-ham-links">
             <li class="mob-menu-item">
              <a href="https://careers.upl-ltd.com" target="_blank">
               Empleo
              </a>
             </li>
             <li class="mob-menu-item">
              <a href="http://eepurl.com/g0A60P" target="_blank">
               Regístrate
              </a>
             </li>
             <li class="mob-menu-item">
              <a class="" href="https://www.upl-ltd.com/es/Eventos">
               Eventos
              </a>
             </li>
             <!-- <li class="mob-menu-item" >
						<a href="https://pronutiva.club/" target="_blank">ProNutiva</a>
					</li> -->
             <li class="mob-menu-item">
              <a class="" href="https://www.upl-ltd.com/es/Seleccionar-Pa%C3%ADs">
               Seleccionar País
              </a>
             </li>
             <li class="mob-menu-item">
              <a href="https://www.upl-ltd.com/" target="_blank">
               UPL Global
              </a>
             </li>
            </ul>
           </div>
          </div>
         </div>
        </li>
       </ul>
      </div>
      <!-- /.navbar-collapse -->
     </div>
    </div>
    <!-- /.container-fluid -->
   </div>
  </nav>
  <div class="enquiry-fixed enquiry-message-fixed" style="display: none">
   <div class="enquiry-wrapper enquiry-message-wrapper text-center">
    <span class="enquiry-close-btn">
     X
    </span>
    <h2 class="enquiry-title">
     Enquire Now
    </h2>
    <h2 class="enquiry-message">
     Thank you for getting in touch with us.
    </h2>
    <h2 class="enquiry-message">
     We will get back to you shortly
    </h2>
    <div class="text-center">
     <button class="btn enquiry-btn submit-btn">
      send enquiry again
     </button>
    </div>
   </div>
  </div>
  <div class="enquiry-fixed enquiry-form-fixed" id="enquiry-form">
   <div class="enquiry-toggle-btn">
    <i aria-hidden="true" class="fa fa-envelope-o">
    </i>
   </div>
   <div class="enquiry-wrapper custom-scroll">
    <span class="enquiry-close-btn">
     X
    </span>
    <form action="https://www.upl-ltd.com/enquiry" class="enquiry-form" id="enquiry-detail-form" method="POST">
     <h2 class="enquiry-title text-center">
      Enquire Now
     </h2>
     <div class="form-group">
      <input class="form-control" name="name" placeholder="Name" type="text"/>
      <div class="alert error-text alert-danger" data-name="name" style="display: none;">
      </div>
     </div>
     <div class="form-group">
      <input class="form-control" name="email_id" placeholder="Email ID" type="text"/>
      <div class="alert error-text alert-danger" data-name="email_id" style="display: none;">
      </div>
     </div>
     <div class="form-group">
      <input class="form-control" id="phone_number" name="phone_number" placeholder="Phone Number" type="text"/>
      <div class="alert error-text alert-danger" data-name="phone_number" style="display: none;">
      </div>
     </div>
     <input class="form-control" id="countryCode" name="country_code" type="hidden"/>
     <div class="form-group">
      <select class="form-control" name="product_category">
       <option value="">
        Product Category
       </option>
       <option value="Herbicide">
        Herbicide
       </option>
       <option value="Fungicide">
        Fungicide
       </option>
       <option value="Insecticide">
        Insecticide
       </option>
       <option value="Fumigants">
        Fumigants
       </option>
       <option value="Aquatics">
        Aquatics
       </option>
       <option value="Professional Solutions">
        Professional Solutions
       </option>
      </select>
      <div class="alert error-text alert-danger" data-name="product_category" style="display: none;">
      </div>
     </div>
     <div class="form-group">
      <textarea class="form-control" name="comment" placeholder="Comments"></textarea>
      <div class="alert error-text alert-danger" data-name="comment" style="display: none;">
      </div>
     </div>
     <div class="form-group captcha-group">
      <input class="form-control" id="defaultReal" name="defaultReal" type="text"/>
      <div class="alert error-text alert-danger" data-name="defaultReal" style="display: none;">
      </div>
     </div>
     <div class="form-group">
      <input name="accept" type="checkbox"/>
      <label for="accept">
       I accept the
       <a href="/terms-of-service" target="_blank">
        Terms of Services
       </a>
       &amp;
       <a href="/privacy-policy" target="_blank">
        Privacy Policy.
       </a>
      </label>
      <div class="alert error-text alert-danger" data-name="accept" style="display: none;">
      </div>
     </div>
     <div class="form-group submit-div">
      <button class="btn enquiry-btn submit-btn">
       Submit
      </button>
     </div>
    </form>
   </div>
  </div>
  <!-- social share -->
  <div class="share-icons-fixed">
   <div class="share-icons-wrapper clearfix">
    <div class="toggle-btn">
     <i aria-hidden="true" class="fa fa-share-alt">
     </i>
    </div>
    <div class="jssocials" id="share">
     <div class="jssocials-shares">
      <div class="jssocials-share jssocials-share-email">
       <a class="jssocials-share-link" href="mailto:?subject=Products%20%7C%20UPL&amp;body=https%3A%2F%2Fwww.upl-ltd.com%2Fes%2FProductos" target="_self">
        <i class="fa fa-at jssocials-share-logo">
        </i>
       </a>
      </div>
      <div class="jssocials-share jssocials-share-twitter">
       <a class="jssocials-share-link" href="https://twitter.com/share?url=https%3A%2F%2Fwww.upl-ltd.com%2Fes%2FProductos&amp;text=Products%20%7C%20UPL" target="_blank">
        <i class="fa fa-twitter jssocials-share-logo">
        </i>
       </a>
      </div>
      <div class="jssocials-share jssocials-share-facebook">
       <a class="jssocials-share-link" href="https://facebook.com/sharer/sharer.php?u=https%3A%2F%2Fwww.upl-ltd.com%2Fes%2FProductos" target="_blank">
        <i class="fa fa-facebook jssocials-share-logo">
        </i>
       </a>
      </div>
      <div class="jssocials-share jssocials-share-linkedin">
       <a class="jssocials-share-link" href="https://www.linkedin.com/shareArticle?mini=true&amp;url=https%3A%2F%2Fwww.upl-ltd.com%2Fes%2FProductos" target="_blank">
        <i class="fa fa-linkedin jssocials-share-logo">
        </i>
       </a>
      </div>
     </div>
    </div>
   </div>
  </div>
  <section class="product-filter-section">
   <div class="products-filter porfolio-section">
    <div class="container upl-container clearfix">
     <div class="breadcrumbs-wrapper bread-crumb">
      <div class="">
       <div class="row">
        <div class="breadcrumbs">
         <ul class="list-unstyled list-inline">
          <li>
           <a clas="ia-insitenav" href="https://www.upl-ltd.com/es">
            Inicio
           </a>
          </li>
          <li>
           <span>
            <i class="fa fa-angle-right">
            </i>
           </span>
          </li>
          <li>
           <a href="https://www.upl-ltd.com/es/Productos">
            Productos
           </a>
          </li>
         </ul>
        </div>
       </div>
      </div>
     </div>
     <div class="row">
      <div class="upl-content-wrapper clearfix">
       <div class="col-sm-12 left-col">
        <div class="header-wrapper">
         <div class="section-heading section-head">
          <h2>
           Encuentre su producto
          </h2>
         </div>
        </div>
       </div>
      </div>
     </div>
     <div class="row">
      <form action="show-product-search" class="clearfix" method="GET">
       <div class="col-md-10">
        <div class="row">
         <div class="col-md-4 col-sm-4 left-col">
          <div class="select-group first-product-dropdown">
           <select class="form-control category-select category" name="category">
            <option value="">
             Selecciona
            </option>
            <option value="1">
             Tipo de producto
            </option>
            <option value="2">
             Cultivo
            </option>
           </select>
          </div>
         </div>
         <div class="col-md-4 col-sm-4">
          <div class="select-group second-product-dropdown">
           <select class="form-control category-select subCategory" disabled="disabled" name="subCategory">
           </select>
          </div>
         </div>
         <div class="col-md-4 col-sm-4">
          <div class="select-group third-product-dropdown">
           <select class="form-control category-select lastCategory" disabled="disabled" name="lastCategory">
           </select>
          </div>
         </div>
        </div>
       </div>
       <div class="col-md-2">
        <div class="row">
         <div class="col-sm-12 show-product-btn-div">
          <button class="btn orange-btn btn-show-product">
           Mostrar productos
          </button>
         </div>
        </div>
       </div>
      </form>
     </div>
    </div>
   </div>
  </section>
  <!-- products content section -->
  <section class="products-section">
   <!-- products accordions -->
   <div class="container upl-container clearfix">
    <div class="panel-group" id="product-accordion" role="tablist">
    </div>
   </div>
  </section>
  <script async="" src="https://www.google-analytics.com/analytics.js" type="text/javascript">
  </script>
  <script id="product-category-list-script" type="text/x-handlebars-template">
   {{#each data}}
	<div class="panel panel-default">
		<div class="panel-heading products-heading ia-inpagenav" style="border-bottom: 1px solid {{dark_color}};" data-toggle="collapse" href="#productAcc{{@index}}" data-parent="#product-accordion">
			<div class="container upl-container">
				<div class="row">
					<div class="upl-content-wrapper">
						<h2>
							<img src="{{product_type_image}}"/>
							<span>{{display_name}}</span>
							<span>({{number_of_products}})</span>
						</h2>
					</div>
				</div>
			</div>
		</div>

		<div id="productAcc{{@index}}" class="panel-collapse collapse {{#if ../isOpen}}in{{/if}}" role="tabpanel">
			<div class="panel-body">
				<div class="products">
					<div class="container upl-container">
						<div class="row">
							<div class="upl-content-wrapper products-list">
								{{#everyNth products 2}}
								{{#if isModZeroNotFirst}}
							</div>
						</div>
						{{/if}}
						{{#if isModZero}}
						<div class="products-row clearfix">
							<div class="row" style="width: 100%";>
								{{/if}}
								<div class="col-lg-6">
									<div class="product clearfix">
										<div class="col-sm-4 col-xs-10">
											<a class="btn upl-btn view-btn ia-insitenav" href ="Productos/{{ product_url}}">
												<div class="product-name"
												style="background-image: url('{{leaf_image}}');">
												<h3>{{name}}</h3>
											</div>
										</a>
									</div>
									<div class="col-sm-8 col-xs-12">
										<div class="product-desc">
											<p class="target">Ingrediente activo :</p>
											<p class="product-info">
												{{#each ingredients}}
												<span class="product-ingrd">{{name}}<span class="separator"> / </span> </span>
												{{/each}}
											</p>

											<a class="btn upl-btn view-btn ia-insitenav" href ="Productos/{{ product_url}}">Conoce más</a>
										</div>
									</div>
								</div>
							</div>
							{{#if isLast}}
						</div>
					</div>
					{{/if}}
					{{/everyNth}}
				</div>
			</div>
		</div>
	</div>
</div>
</div>
</div>
{{/each}}
  </script>
  <footer class="footer">
   <div class="footer-top bg-gray-two">
    <div class="container upl-container">
     <div class="row">
      <div class="upl-content-wrapper sitemap clearfix foo-desktop">
       <div class="col-sm-9 clearfix">
        <div class="col-sm-3">
         <div class="footer-nav">
          <h4>
           Quiénes Somos
          </h4>
          <ul class="list-unstyled">
           <li>
            <a class="" href="https://www.upl-ltd.com/es/open-ag">
             OpenAg
             <sup>
              ®
             </sup>
            </a>
           </li>
           <li>
            <a class="" href="https://www.upl-ltd.com/es/Misi%C3%B3n-Corporativa">
             Misión Corporativa
            </a>
           </li>
           <li>
            <a class="" href="https://www.upl-ltd.com/es/Nuestro-Legado">
             Nuestro Legado
            </a>
           </li>
          </ul>
         </div>
        </div>
        <div class="col-sm-3">
         <div class="footer-nav">
          <h4 class="active">
           Productos
          </h4>
          <ul class="list-unstyled footer-product-list">
           <li>
            <a class="" href="https://www.upl-ltd.com/es/Productos?level_one=1&amp;level_two_select=1">
             Herbicidas
            </a>
           </li>
           <li>
            <a class="" href="https://www.upl-ltd.com/es/Productos?level_one=1&amp;level_two_select=2">
             Fungicidas
            </a>
           </li>
           <li>
            <a class="" href="https://www.upl-ltd.com/es/Productos?level_one=1&amp;level_two_select=3">
             Reguladores De Crecimiento
            </a>
           </li>
           <li>
            <a class="" href="https://www.upl-ltd.com/es/Productos?level_one=1&amp;level_two_select=4">
             Insecticidas
            </a>
           </li>
           <li>
            <a class="" href="https://www.upl-ltd.com/es/Productos?level_one=1&amp;level_two_select=5">
             Acondicionadores De Suelo
            </a>
           </li>
           <li>
            <a class="" href="https://www.upl-ltd.com/es/Productos?level_one=1&amp;level_two_select=6">
             Micronutrientes Y Fertilizantes Foliares
            </a>
           </li>
           <li>
            <a class="" href="https://www.upl-ltd.com/es/Productos?level_one=1&amp;level_two_select=9">
             Tratamientos De Semillas
            </a>
           </li>
           <li>
            <a class="" href="https://www.upl-ltd.com/es/Productos?level_one=1&amp;level_two_select=12">
             Fisioactivadores
            </a>
           </li>
           <li>
            <a class="" href="https://www.upl-ltd.com/es/Productos?level_one=1&amp;level_two_select=16">
             Coadyuvantes
            </a>
           </li>
          </ul>
         </div>
        </div>
        <!-- <div class="col-sm-2">
							<div class="footer-nav">
								<h4><a href="https://www.upl-ltd.com/es/cultivos" style="margin:0px; line-height: 0px;">Cultivos</a></h4>
							</div>
						</div> -->
        <div class="col-sm-2">
         <div class="footer-nav">
          <h4>
           <a class="" href="http://fichasdeseguridadupl.es/" style="margin:0px; line-height: 0px;" target="_blank">
            FDS
           </a>
          </h4>
         </div>
        </div>
        <div class="col-sm-2">
         <div class="footer-nav">
          <h4>
           <a class="" href="https://www.upl-ltd.com/es/Noticias" style="margin:0px; line-height: 0px;">
            Noticias
           </a>
          </h4>
         </div>
        </div>
        <div class="col-sm-2">
         <div class="footer-nav">
          <h4>
           <a href="https://www.upl-ltd.com/es/Eventos" style="margin:0px; line-height: 0px;">
            Eventos
           </a>
          </h4>
         </div>
        </div>
       </div>
       <div class="col-sm-3 right-col">
        <h4>
         Contacto
        </h4>
        <div class="contact-info">
         <p>
          <a class="email" href="mailto:iberia@upl-ltd.com">
           Email: iberia@upl-ltd.com
          </a>
         </p>
         <p>
          <span>
           Teléfono: + 901 900 040
          </span>
         </p>
        </div>
       </div>
      </div>
     </div>
     <div class="upl-content-wrapper sitemap clearfix foo-mobile">
      <div class="panel-group" id="accordion" role="tablist">
       <!-- acc one -->
       <div class="panel panel-default footer-nav">
        <div class="panel-heading collapsed" data-parent="#accordion" data-toggle="collapse" href="#fooAccOne">
         <h4>
          Quiénes Somos
         </h4>
        </div>
        <div class="panel-collapse collapse" id="fooAccOne" role="tabpanel">
         <div class="panel-body">
          <ul class="list-unstyled">
           <li>
            <a class="" href="https://www.upl-ltd.com/es/open-ag">
             OpenAg
             <sup>
              ®
             </sup>
            </a>
           </li>
           <li>
            <a class="" href="https://www.upl-ltd.com/es/Misi%C3%B3n-Corporativa">
             Misión Corporativa
            </a>
           </li>
           <li>
            <a class="" href="https://www.upl-ltd.com/es/Nuestro-Legado">
             Nuestro Legado
            </a>
           </li>
          </ul>
         </div>
        </div>
       </div>
       <!-- acc two -->
       <div class="panel panel-default footer-nav">
        <div class="panel-heading collapsed" data-parent="#accordion" data-toggle="collapse" href="#fooAccTwo">
         <h4>
          Productos
         </h4>
        </div>
        <div class="panel-collapse collapse" id="fooAccTwo" role="tabpanel">
         <div class="panel-body">
          <ul class="list-unstyled footer-product-list">
           <li>
            <a class="" href="https://www.upl-ltd.com/es/Productos?level_one=1&amp;level_two_select=1">
             Herbicidas
            </a>
           </li>
           <li>
            <a class="" href="https://www.upl-ltd.com/es/Productos?level_one=1&amp;level_two_select=2">
             Fungicidas
            </a>
           </li>
           <li>
            <a class="" href="https://www.upl-ltd.com/es/Productos?level_one=1&amp;level_two_select=3">
             Reguladores De Crecimiento
            </a>
           </li>
           <li>
            <a class="" href="https://www.upl-ltd.com/es/Productos?level_one=1&amp;level_two_select=4">
             Insecticidas
            </a>
           </li>
           <li>
            <a class="" href="https://www.upl-ltd.com/es/Productos?level_one=1&amp;level_two_select=5">
             Acondicionadores De Suelo
            </a>
           </li>
           <li>
            <a class="" href="https://www.upl-ltd.com/es/Productos?level_one=1&amp;level_two_select=6">
             Micronutrientes Y Fertilizantes Foliares
            </a>
           </li>
           <li>
            <a class="" href="https://www.upl-ltd.com/es/Productos?level_one=1&amp;level_two_select=9">
             Tratamientos De Semillas
            </a>
           </li>
           <li>
            <a class="" href="https://www.upl-ltd.com/es/Productos?level_one=1&amp;level_two_select=12">
             Fisioactivadores
            </a>
           </li>
           <li>
            <a class="" href="https://www.upl-ltd.com/es/Productos?level_one=1&amp;level_two_select=16">
             Coadyuvantes
            </a>
           </li>
          </ul>
         </div>
        </div>
       </div>
       <!-- <div class="footer-nav">
						<div class="panel-heading">
							<a href="https://www.upl-ltd.com/es/cultivos">
								<h4>Cultivos</h4>
							</a>
						</div>
					</div> -->
       <div class="footer-nav">
        <div class="panel-heading">
         <a class="" href="http://fichasdeseguridadupl.es/" target="_blank">
          <h4>
           FDS
          </h4>
         </a>
        </div>
       </div>
       <div class="footer-nav">
        <div class="panel-heading">
         <a class="" href="https://www.upl-ltd.com/es/Noticias">
          <h4>
           Noticias
          </h4>
         </a>
        </div>
       </div>
       <div class="footer-nav">
        <div class="panel-heading">
         <a class="" href="https://www.upl-ltd.com/es/Eventos">
          <h4>
           Eventos
          </h4>
         </a>
        </div>
       </div>
       <!-- acc three -->
       <div class="panel panel-default">
        <div class="panel-heading collapsed" data-parent="#accordion" data-toggle="collapse" href="#fooAccThree">
         <h4>
          Contacto
         </h4>
        </div>
        <div class="panel-collapse collapse" id="fooAccThree" role="tabpanel">
         <div class="panel-body">
          <div class="contact-info">
           <p>
            <a class="email" href="mailto:iberia@upl-ltd.com">
             Email: iberia@upl-ltd.com
            </a>
           </p>
           <p>
            <span>
             Teléfono: + 901 900 040
            </span>
           </p>
          </div>
         </div>
        </div>
       </div>
      </div>
     </div>
    </div>
   </div>
   <div class="cookie-policy" style="display: block;">
    <div class="container">
     <h1 class="cookie-title">
      Uso de cookies
     </h1>
     <div class="cookie-container">
      <div class="cookie-wrapper">
       <p class="cookie-para">
        Esta web utiliza cookies propias para mejorar la seguridad, el rendimiento y los servicios ofrecidos con el objetivo de mejorar nuestro sitio web para futuros usuarios. Encuentre toda la información en nuestra Política de Cookies.
       </p>
      </div>
      <div>
       <button class="btn agree-btn" type="button">
        Estoy de acuerdo
       </button>
      </div>
     </div>
    </div>
   </div>
   <div class="footer-bottom foo-desktop">
    <div class="container upl-container">
     <div class="row">
      <div class="upl-content-wrapper clearfix">
       <div class="col-sm-8">
        <ul class="list-inline bottom-links">
         <!--  <li><p class="copyright">Copyright @ UPL 2024</p></li> -->
         <li>
          <p class="copyright">
           UPL Iberia S.A. Todos los derechos reservados
          </p>
         </li>
         <li>
          <a class="" href="https://www.upl-ltd.com/es/T%C3%A9rminos-de-uso">
           Términos de uso
          </a>
         </li>
         <li>
          <a class="" href="https://www.upl-ltd.com/es/Pol%C3%ADtica-de-privacidad">
           Política de privacidad
          </a>
         </li>
         <li>
          <a href="https://www.upl-ltd.com/suppliers" target="_blank">
           Proveedores
          </a>
         </li>
        </ul>
       </div>
       <div class="col-sm-4">
        <div class="social-icons-div text-center">
         <ul class="list-inline text-right social_icons_list">
          <li>
           <a class="facebook" href="https://www.facebook.com/UPLIberiaOpenAg" target="_blank">
            <i class="fa fa-facebook">
            </i>
           </a>
          </li>
          <li>
           <a class="twitter" href="https://twitter.com/UPL_Iberia" target="_blank">
            <span class="fa">
             <svg class="twitter-logo" fill="none" height="23" viewbox="0 0 23 23" width="23" xmlns="http://www.w3.org/2000/svg">
              <g clip-path="url(#clip0_20659_841)">
               <path class="twi-logo" d="M14.2342 10.1624L22.9766 0H20.9049L13.3139 8.82384L7.25095 0H0.258057L9.42642 13.3432L0.258057 24H2.32985L10.3462 14.6817L16.7491 24H23.742L14.2337 10.1624H14.2342ZM11.3966 13.4608L10.4676 12.1321L3.07634 1.55961H6.2585L12.2234 10.0919L13.1523 11.4206L20.9059 22.5113H17.7238L11.3966 13.4613V13.4608Z">
               </path>
              </g>
              <defs>
               <clippath id="clip0_20659_841">
                <rect height="23" width="23">
                </rect>
               </clippath>
              </defs>
             </svg>
            </span>
           </a>
          </li>
          <li>
           <a class="instagram" href="https://www.instagram.com/upl_iberia/" target="_blank">
            <i class="fa fa-instagram">
            </i>
           </a>
          </li>
          <li>
           <a class="linkedin" href="https://www.linkedin.com/company/upl-ltd/" target="_blank">
            <i class="fa fa-linkedin">
            </i>
           </a>
          </li>
          <li>
           <a class="youtube" href="https://www.youtube.com/channel/UCAqUgepg2wdQ785-OtS1BUQ" target="_blank">
            <i class="fa fa-youtube">
            </i>
           </a>
          </li>
         </ul>
        </div>
       </div>
      </div>
     </div>
    </div>
   </div>
   <div class="footer-bottom foo-mobile">
    <div class="social-icons-div">
     <div class="container upl-container">
      <div class="row">
       <div class="upl-content-wrapper clearfix">
        <div class="col-sm-12 text-center">
         <ul class="list-inline social_icons_list">
          <li>
           <a href="https://www.facebook.com/UPLIberiaOpenAg" target="_blank">
            <i class="fa fa-facebook">
            </i>
           </a>
          </li>
          <li>
           <a href="https://twitter.com/UPL_Iberia" target="_blank">
            <span class="fa">
             <svg class="twitter-logo" fill="none" height="23" viewbox="0 0 23 23" width="23" xmlns="http://www.w3.org/2000/svg">
              <g clip-path="url(#clip0_20659_841)">
               <path class="twi-logo" d="M14.2342 10.1624L22.9766 0H20.9049L13.3139 8.82384L7.25095 0H0.258057L9.42642 13.3432L0.258057 24H2.32985L10.3462 14.6817L16.7491 24H23.742L14.2337 10.1624H14.2342ZM11.3966 13.4608L10.4676 12.1321L3.07634 1.55961H6.2585L12.2234 10.0919L13.1523 11.4206L20.9059 22.5113H17.7238L11.3966 13.4613V13.4608Z">
               </path>
              </g>
              <defs>
               <clippath id="clip0_20659_841">
                <rect height="23" width="23">
                </rect>
               </clippath>
              </defs>
             </svg>
            </span>
           </a>
          </li>
          <li>
           <a class="instagram" href="https://www.instagram.com/upl_iberia/" target="_blank">
            <i class="fa fa-instagram">
            </i>
           </a>
          </li>
          <li>
           <a href="https://www.linkedin.com/company/upl-ltd/" target="_blank">
            <i class="fa fa-linkedin">
            </i>
           </a>
          </li>
          <li>
           <a href="https://www.youtube.com/channel/UCAqUgepg2wdQ785-OtS1BUQ" target="_blank">
            <i class="fa fa-youtube">
            </i>
           </a>
          </li>
         </ul>
        </div>
       </div>
      </div>
     </div>
    </div>
    <div class="bottom-links-div">
     <div class="container upl-container">
      <div class="row">
       <div class="upl-content-wrapper clearfix">
        <div class="col-sm-12 text-center">
         <ul class="list-unstyled bottom-links">
          <!-- <li><p class="copyright">Copyright @ UPL 2024</p></li> -->
          <li>
           <p class="copyright">
            Iberia S.A. Todos los derechos reservados
           </p>
          </li>
          <li>
           <a class="" href="https://www.upl-ltd.com/es/T%C3%A9rminos-de-uso">
            Términos de uso
           </a>
          </li>
          <li>
           <a class="" href="https://www.upl-ltd.com/es/Pol%C3%ADtica-de-privacidad">
            Política de privacidad
           </a>
          </li>
          <li>
           <a href="https://www.upl-ltd.com/suppliers" target="_blank">
            Proveedores
           </a>
          </li>
         </ul>
        </div>
       </div>
      </div>
     </div>
    </div>
   </div>
  </footer>
  <!-- Back to top -->
  <div id="back-to-top">
   <i class="fa fa-arrow-up">
   </i>
  </div>
  <!-- third party scripts -->
  <script>
   // Global Variables
		var apiUrl = "https://es.uplcorp.com";
  </script>
  <script crossorigin="anonymous" integrity="sha512-+NqPlbbtM1QqiK8ZAo4Yrj2c4lNQoGv8P79DPtKzj++l5jnN39rHA/xsqn8zE9l0uSoxaCdrOgFs6yjyfbBxSg==" referrerpolicy="no-referrer" src="https://cdnjs.cloudflare.com/ajax/libs/jquery/3.3.1/jquery.min.js">
  </script>
  <script crossorigin="anonymous" integrity="sha512-iztkobsvnjKfAtTNdHkGVjAYTrrtlC7mGp/54c40wowO7LhURYl3gVzzcEqGl/qKXQltJ2HwMrdLcNUdo+N/RQ==" referrerpolicy="no-referrer" src="https://cdnjs.cloudflare.com/ajax/libs/twitter-bootstrap/3.3.7/js/bootstrap.min.js">
  </script>
  <script src="https://cdnjs.cloudflare.com/ajax/libs/slick-carousel/1.8.1/slick.min.js">
  </script>
  <script src="https://cdnjs.cloudflare.com/ajax/libs/handlebars.js/4.5.3/handlebars.min.js" type="text/javascript">
  </script>
  <script src="/es_assets/socials/jssocials.min.js" type="text/javascript">
  </script>
  <script src="/es_assets/js/intlTelInput.js" type="text/javascript">
  </script>
  <script src="/es_assets/js/jquery.simplePagination.js" type="text/javascript">
  </script>
  <script src="/es_assets/js/selectize.js" type="text/javascript">
  </script>
  <script src="/es_assets/js/jquery.easy-autocomplete.js" type="text/javascript">
  </script>
  <script src="https://cdnjs.cloudflare.com/ajax/libs/jquery-cookie/1.4.1/jquery.cookie.min.js" type="text/javascript">
  </script>
  <script src="https://cdnjs.cloudflare.com/ajax/libs/es6-shim/0.35.5/es6-shim.min.js" type="text/javascript">
  </script>
  <script src="https://cdnjs.cloudflare.com/ajax/libs/lazysizes/5.3.2/lazysizes.min.js">
  </script>
  <!-- custom script -->
  <script src="/es_assets/js/es.js?v4" type="text/javascript">
  </script>
  <script id="footer-product-script" type="text/x-handlebars-template">
   {{#each this}}
	<li><a href="https://www.upl-ltd.com/es/Productos?level_one=1&level_two_select={{id}}" class="">{{name}}</a></li>
	{{/each}}
  </script>
  <script id="country-modal" type="text/x-handlebars-template">
   <div class="modal redirect-country-modal fade" tabindex="-1" role="dialog">
			<div class="modal-dialog modal-md" role="document">
				<div class="modal-content">
					<div class="modal-body">
						<button type="button" tabindex="-1" class="close close-modal unsetSession" data-dismiss="modal" aria-label="Close"><span aria-hidden="true">&times;</span></button>
						<div class="img-wrapper" style="background-image:url('{{site_banner}}'); ">
							<div class="text-wrapper">
								<h4 class="arysta-head">{{site_head}}</h4>
								<p class="main-description">{{site_description}}</p>
								<p class="sub-description">{{site_small_description}}</p>
								<p class="site-greeting">{{site_greetings}}</p>

								{{#if arysta_link}}
								<p class="arysta-message">{{{arysta_message}}}</p>
								<a class="click-link" href="{{arysta_link}}" target="_blank">{{clickable_link}}</a>
								{{/if}}
							</div>
						</div>
					</div>
					<input type="hidden" data>
				</div><!-- /.modal-content -->
			</div><!-- /.modal-dialog -->
		</div>
  </script>
  <script id="temperature_script" type="text/x-handlebars-template">
   <div class="weather-info">
			<div class="weather-icon">
				<img data-src="https://openweathermap.org/img/w/{{weather.0.icon}}.png" class="lazyload" alt="">
				<p class="temperature weather-text" style="font-size:12px;margin-right: 5px;">{{main.temp}} </p>
			</div>
			<div class="weather-description">
				<p class="weather" style="font-size:12px;"><p style="padding-left:0%;"> {{weather.0.main}}</p></p>
			</div>
		</div>
  </script>
  <script src="https://player.vimeo.com/api/player.js">
  </script>
  <script charset="utf-8" type="text/javascript">
   $(document).ready(function() {

		Handlebars.registerHelper('everyNth', function(context, every, options) {
			var fn = options.fn, inverse = options.inverse;
			var ret = "";
			if(context && context.length > 0) {
				for(var i=0, j=context.length; i<j; i++) {
					var modZero = i % every === 0;
					ret = ret + fn(Object.assign({},context[i],{
						isModZero: modZero,
						isModZeroNotFirst: modZero && i > 0,
						isLast: i === context.length - 1
					}));
				}
			} else {
				ret = inverse(this);
			}
			return ret;
		});

		var parent=$('.product-filter-section');

		function renderClientSidePagination(){

			var productSection = $('.products-section');

			productSection.find('.show-more-product').remove();

			$.each($('.products-list'),function(i,v){
				var $this = $(this);
				$.each($this.find('.products-row'),function(index,value){
					if(index > 2){
						$(this).addClass('hidden');
					}
				});

				if($this.find('.products-row.hidden').length > 0){
					$this.append('<div class="show-more-product text-center"><button id="show-more-button" class="btn upl-btn bluish-btn showbutton showmorebutton">Ver más</button><button id="show-more-button" class="btn upl-btn bluish-btn showbutton showallbutton">Ver todos</button></div>');
				}
			});
		}


		var firstDropdownValue = "",
		secondDropdownValue = "",
		thirdDropdownValue = "";

		var firstDropdown = $('select.category'),
		secondDropdown = $('select.subCategory'),
		thirdDropdown = $('select.lastCategory'),
		productSection = $('.products-section');

		productList((firstDropdownValue || secondDropdownValue || thirdDropdownValue) ? true : false  ,firstDropdownValue,secondDropdownValue,thirdDropdownValue);


		$.ajax({
			method: 'GET',
			url: apiUrl+"/api/products-categories-targets/selection",
			success: function(data) {
				var category = data.data;
				var html = '<option value="">Selecciona</option>';
				$.each(category,function(i,v){
					html = html + "<option value='"+v.id+"'>"+v.name+"</option>";
				});
				firstDropdown.html(html);
				if(firstDropdownValue){
					firstDropdown.val(firstDropdownValue);

					getSecondDropdown(firstDropdownValue);
					firstDropdownValue = null;
				}
			}
		});


		parent.find('.category').on('change',function(e){

			var firstOption = $(this).val();

			secondDropdown.val('');
			secondDropdown.empty();
			thirdDropdown.val('');
			thirdDropdown.empty();

			productList(false,firstOption);
			secondDropdown.removeAttr("disabled");
			getSecondDropdown(firstOption);

		});

		function getSecondDropdown(category){
			$.ajax({
				method: 'GET',
				url: apiUrl+'/api/products-categories-targets/get-level-two',
				data: {
					category: category
				},
				success: function(data) {

					var html = '<option value="">'+data.select_name+'</option>';
					$.each(data.data,function(i,v){
						html = html + '<option value="'+v.id+'">'+v.name+'</option>';
						secondDropdown.removeAttr("disabled");
					});
					secondDropdown.html(html);
					if(secondDropdownValue){
						secondDropdown.val(secondDropdownValue);
						thirdDropdown.removeAttr("disabled");
						getThirdDropdown(category,secondDropdownValue);
						secondDropdownValue = null;
					}
				}
			});
		}

		parent.find('.subCategory').on('change',function(e){
			var firstOption = firstDropdown.val();
			var secondOption = $(this).val();


			thirdDropdown.val('');
			thirdDropdown.empty();

			productList(true,firstOption,secondOption);

			getThirdDropdown(firstOption, secondOption)
		});

		function getThirdDropdown(category, subcategory){
			$.ajax({
				method: 'GET',
				url: apiUrl+'/api/products-categories-targets/get-level-three',
				data: {
					category: category,
					subCategory: subcategory
				},
				success: function(data) {

					var html = '<option value="">'+data.select_name+'</option>';
					$.each(data.data,function(i,v){
						html = html + '<option value="'+v.id+'">'+v.name+'</option>';
						thirdDropdown.removeAttr("disabled");
					});
					thirdDropdown.html(html);
					if(thirdDropdownValue){

						thirdDropdown.val(thirdDropdownValue);
						thirdDropdownValue = null;
					}
				}
			});
		}

		thirdDropdown.on('change', function(){
			var firstOption = firstDropdown.val();
			var secondOption = secondDropdown.val();
			var thirdOption = $(this).val();

			productList(true,firstOption,secondOption,thirdOption);

		});



		function productList(isOpen,category,subCategory,lastCategory) {

			$.ajax({
				method: 'GET',
				url: apiUrl+'/api/products-categories-targets/get-products',
				data : {
					category: category || '',
					subCategory: subCategory || '',
					lastCategory: lastCategory || ''
				},
				success: function(data) {


					var products_list = {
						data: data.data ||  data[0],
						isOpen: isOpen
					};
					source = $('#product-category-list-script').html();
					template = Handlebars.compile(source);
					$("#product-accordion").html(template(products_list));
					renderClientSidePagination();
				}
			});

		}

		$('.btn-show-product').on('click', function(e){
			e.preventDefault();
			var firstOption = firstDropdown.val();
			var secondOption = secondDropdown.val();
			var thirdOption = thirdDropdown.val();

			productList(true,firstOption,secondOption,thirdOption);

		});

		/* show all products drom list on click of show all button */
		$('.products-section').on('click','.showallbutton',function(){
			var $this = $(this);
			var parent = $this.parents('.products-list');

			$.each(parent.find('.products-row.hidden'),function(){
				$(this).removeClass('hidden');
			});

			if(parent.find('.products-row.hidden').length == 0){
				$this.hide();
				$this.siblings('.showmorebutton').hide();
			}
		});

		renderClientSidePagination();

		/* show 6 products on each click of show more button */
		$('.products-section').on('click','.showmorebutton',function(){
			var $this = $(this);
			var parent = $this.parents('.products-list');

			$.each(parent.find('.products-row.hidden'),function(index,value){
				if(index <= 2){
					$(this).removeClass('hidden');
				}
			});

			if(parent.find('.products-row.hidden').length == 0){
				$this.hide();
				$this.siblings('.showallbutton').hide();
			}
		});

	});
  </script>
  <script type="text/javascript">
   $(document).ready(function(){
			$('.active').closest('li.dropdown').addClass('active');
			$(".error-text").hide();

			// after closing popup
			var grayBand = $('.gray-band');
			$(".gray-band-close").on('click', function() {
				grayBand.hide();
				$(".navbar").removeClass("popup-sticky");
			});

			$('.enquiry-form-fixed').on('click', '.enquiry-btn', function(e) {
				e.preventDefault();
	            var countryData = $("#phone_number").intlTelInput("getSelectedCountryData"); // get country data as obj
	            var countryCode = "+" + countryData.dialCode;
	            $('#countryCode').val(countryCode);
	            var form = $("#enquiry-detail-form")[0];
	            var formData = new FormData(form);

	            $.ajax({
	            	type: 'POST',
	            	contentType: false,
	            	processData: false,
	            	url: 'https://www.upl-ltd.com/enquiry',
	            	data: formData,
	            	async: true,
	            	success: function(data) {
	            		$('.enquiry-form-fixed').removeClass('in');

	            		$('.enquiry-message-fixed').css({
	            			'display': 'block',
	            			'z-index': '200'
	            		});

	            		$('.enquiry-message-fixed').find('.enquiry-btn').on('click', function() {
	            			$('.enquiry-message-fixed').hide();
	            			$('.enquiry-form-fixed').find('.form-control').val('');
	            			$('.enquiry-form-fixed').addClass('in');
	            			$('.enquiry-form-fixed').find('.alert').hide();
	            		});
	            	},
	            	error: function(error){
	            		$("#enquiry-form").find('.error-text').hide();
	            		var errorMessage = error.responseJSON;
	            		$.each(errorMessage, function(k, v){
	            			if(k.indexOf('.') !== -1) {
	            				var arr = k.split('.');
	            				var name = arr[0];
	            				var index = arr[1];
	            				$("#enquiry-form").find('.error-text[data-name='+name+']').eq(index).text(v).show();
	            			} else {
	            				$("#enquiry-form").find('.error-text[data-name='+k+']').text(v).show();
	            			}
	            		});
	            	},
	            });
	        });

			/* back to top button */
			$(window).scroll(function() {
				if ($(this).scrollTop() >= 400) {
					$("#back-to-top").fadeIn(200);
				} else {
					$("#back-to-top").fadeOut(200);
				}
			});

			$("#back-to-top").click(function() {
				$("body,html").animate(
				{
					scrollTop: 0
				},
				500
				);
			});

	        //Custom Search
	        var searchVal;
	        $('.custom-search').on('keypress', function(e) {
	        	if(e.keyCode == 13) {
	        		e.preventDefault();
	        		searchVal = $(this).val();
	        		window.location.href = "/es/Resultado-de-la-búsqueda-para?val="+searchVal;
	        	}
	        });

	        $('.custom-search-btn').on('click', function(e) {
	        	searchVal = $('.custom-search').val();
	        	window.location.href = "/es/Resultado-de-la-búsqueda-para?val="+searchVal;
	        });

	        $('.mobile-search').on('click', function(e) {
	        	searchVal = $('.mobile-input').val();
	        	window.location.href = "/es/Resultado-de-la-búsqueda-para?val="+searchVal;
	        });

	        $('.mobile-global-search-form').on('submit', function(e) {
	        	e.preventDefault();
	        	searchVal = $('.mobile-input').val();
	        	window.location.href = "/es/Resultado-de-la-búsqueda-para?val="+searchVal;
	        })

	        $("#share").jsSocials({
	        	showLabel: false,
	        	showCount: false,
	        	shares: ["email", "twitter", "facebook", "linkedin"]
	        });

			//Slide Search functionality
			$('.uis-form-icon').on('click', function(){
				$('.slide-search-icon').show();
				$(this).addClass('uis-active');
				$('.initial-search').hide();
				$(this).siblings('input').addClass('uis-active');
				$(this).siblings('input').focus();

				if($('.main-nav .search-form .uis-input').hasClass('uis-active')) {
					$('.main-nav .main-nav-li').each(function(k,v) {
						if(k<7) {
							$(this).hide();
							$(this).animate({'opacity':'0'});
						}
						else {
						}
					});
				}
			})

			$('.uis-form-icon').siblings('input').focusout(function(e){
				$(this).removeClass('uis-active');
				$(this).siblings('img').removeClass('uis-active');
				$('.initial-search').show();

				setTimeout(function() {
					$('.slide-search-icon').hide();
					$('.custom-search').val('');
					$('.main-nav .main-nav-li').each(function(k,v) {
						if(k<7) {
							$(this).show();
							$(this).animate({'opacity':'1'},300,'linear');
						}
					});
				}, 400);
			});

			//Cookie Accept Call
			$('.agree-btn').on('click',function() {
				$(this).parents('.cookie-policy').hide();
				cookieValue1 = setCookie('cookie_popup1',"set");
			})

			function setCookie(cname,cvalue,exdays) {
				var d = new Date();
				d.setTime(d.getTime() + (exdays*24*60*60*1000));
				var expires = "expires=" + d.toGMTString();
				document.cookie = cname + "=" + cvalue + ";" + expires + ";path=/";
			}

			function getCookie(cname) {
				var name = cname + "=";
				var decodedCookie = decodeURIComponent(document.cookie);
				var ca = decodedCookie.split(';');
				for(var i = 0; i < ca.length; i++) {
					var c = ca[i];
					while (c.charAt(0) == ' ') {
						c = c.substring(1);
					}
					if (c.indexOf(name) == 0) {
						return c.substring(name.length, c.length);
					}
				}
				return "";
			}

			var cookieValue = getCookie('cookie_popup');
			if(!cookieValue)
			{
				setCookie('cookie_popup',"set");
				cookieValue = getCookie('cookie_popup');
			}
			var cookieValue1 = getCookie("cookie_popup1");
			if(cookieValue && !cookieValue1)
			{
				$('.cookie-policy').show();
			}

			var key = "1d0d1a62b80c3ca08528dd117715f64c76203bdc3fbb4432cb997b04"
						key = "d7badc0f19dac16e4f7b09e841077918af6228c9ef80d0750b0543cf"
			
			//Geo Ip Detection call
			$.ajax({
				method: 'GET',
				url: 'https://api.ipdata.co/?api-key='+key,
				success: function(data) {
					var country_initials = data.country_code.toLowerCase();
					var latitude = data.latitude;
					var longitude = data.longitude;
					getWeather(longitude,latitude);
				}
			});

			//Weather Based on GeoIp
			function getWeather(long, lat) {
				$.ajax({
					method: 'GET',
					url: 'https://api.openweathermap.org/data/2.5/weather?lat='+lat+'&lon='+long+'&appid=d64a91c3ba4dc3166e2991fa35b6a2b7&units=metric&lang=es',
					success: function(data) {
						var source = $("#temperature_script").html();
						var template = Handlebars.compile(source);
						$('.weather-wrapper').append(template(data));
					},
					error: function(error) {
						console.log(error);
					}
				})
			}

			$.ajax({
				method: 'GET',
				url: apiUrl+"/api/products-categories-targets/get-level-two?category=1",
				success: function(data) {
					var product_footer = data.data;
					source = $('#footer-product-script').html();
					template = Handlebars.compile(source);
					$(".footer-product-list").append(template(product_footer));
				}
			})
		});
  </script>
  <!-- Global site tag (gtag.js) - Google Analytics -->
  <script async="" src="https://www.googletagmanager.com/gtag/js?id=UA-109599758-4">
  </script>
  <script>
   window.dataLayer = window.dataLayer || [];
		function gtag(){dataLayer.push(arguments);}
		gtag('js', new Date());

		gtag('config', 'UA-109599758-4');
  </script>
  <!-- Global site tag (gtag.js) - Google Analytics -->
  <script async="" src="https://www.googletagmanager.com/gtag/js?id=G-78W2MC2C7M">
  </script>
  <script>
   window.dataLayer = window.dataLayer || [];
	function gtag(){dataLayer.push(arguments);}
	gtag('js', new Date());

	gtag('config', 'G-78W2MC2C7M');
  </script>
 </body>
</html>

